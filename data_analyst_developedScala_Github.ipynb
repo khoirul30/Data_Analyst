{
 "cells": [
  {
   "cell_type": "markdown",
   "metadata": {},
   "source": [
    "## 1. Scala's real-world project repository data\n",
    "Scala adalah sebuah bahasa pemrograman yang diciptakan oleh Martin Odersky. Di Scala kita bisa menulis kode lebih ringkas dibandingkan di Java. Akhir-akhir ini scala menjadi bahasa utama para data sciencetist. Scala juga open source project sehingga mudah didapatkan dan dikembangkan oleh umum. Kali ini kita akan menganalisa data dari sebuah github yang mana data tersebut berisikan siapa yang sering melakukan pengembangan terhadap scala.\n",
    "\n",
    "Disini saya akan menggunakan 3 dataset:\n",
    "<ol>\n",
    "    <li><code>pulls_2011-2013.csv</code> berisi informasi dasar tentang pull request, dan terjadi dari akhir 2011 hingga 2014(tetapi tidak termasuk).</li>\n",
    "    <li><code>pulls_2014-2018.csv</code> berisi informasi yang identik, dan membentang dari 2014 hingga 2018.</li>\n",
    "<li><code>pull_files.csv</code> berisi file yang telah dimodifikasi oleh setiap pull request.</li>\n",
    "</ol>"
   ]
  },
  {
   "cell_type": "code",
   "execution_count": 1,
   "metadata": {},
   "outputs": [
    {
     "data": {
      "text/html": [
       "<div>\n",
       "<style scoped>\n",
       "    .dataframe tbody tr th:only-of-type {\n",
       "        vertical-align: middle;\n",
       "    }\n",
       "\n",
       "    .dataframe tbody tr th {\n",
       "        vertical-align: top;\n",
       "    }\n",
       "\n",
       "    .dataframe thead th {\n",
       "        text-align: right;\n",
       "    }\n",
       "</style>\n",
       "<table border=\"1\" class=\"dataframe\">\n",
       "  <thead>\n",
       "    <tr style=\"text-align: right;\">\n",
       "      <th></th>\n",
       "      <th>pid</th>\n",
       "      <th>user</th>\n",
       "      <th>date</th>\n",
       "    </tr>\n",
       "  </thead>\n",
       "  <tbody>\n",
       "    <tr>\n",
       "      <th>0</th>\n",
       "      <td>11166973</td>\n",
       "      <td>VladimirNik</td>\n",
       "      <td>2013-12-31T23:10:55Z</td>\n",
       "    </tr>\n",
       "    <tr>\n",
       "      <th>1</th>\n",
       "      <td>11161892</td>\n",
       "      <td>Ichoran</td>\n",
       "      <td>2013-12-31T16:55:47Z</td>\n",
       "    </tr>\n",
       "    <tr>\n",
       "      <th>2</th>\n",
       "      <td>11153894</td>\n",
       "      <td>Ichoran</td>\n",
       "      <td>2013-12-31T02:41:13Z</td>\n",
       "    </tr>\n",
       "    <tr>\n",
       "      <th>3</th>\n",
       "      <td>11151917</td>\n",
       "      <td>rklaehn</td>\n",
       "      <td>2013-12-30T23:45:47Z</td>\n",
       "    </tr>\n",
       "    <tr>\n",
       "      <th>4</th>\n",
       "      <td>11131244</td>\n",
       "      <td>qerub</td>\n",
       "      <td>2013-12-29T17:21:01Z</td>\n",
       "    </tr>\n",
       "  </tbody>\n",
       "</table>\n",
       "</div>"
      ],
      "text/plain": [
       "        pid         user                  date\n",
       "0  11166973  VladimirNik  2013-12-31T23:10:55Z\n",
       "1  11161892      Ichoran  2013-12-31T16:55:47Z\n",
       "2  11153894      Ichoran  2013-12-31T02:41:13Z\n",
       "3  11151917      rklaehn  2013-12-30T23:45:47Z\n",
       "4  11131244        qerub  2013-12-29T17:21:01Z"
      ]
     },
     "metadata": {},
     "output_type": "display_data"
    },
    {
     "name": "stdout",
     "output_type": "stream",
     "text": [
      "<class 'pandas.core.frame.DataFrame'>\n",
      "RangeIndex: 3296 entries, 0 to 3295\n",
      "Data columns (total 3 columns):\n",
      " #   Column  Non-Null Count  Dtype \n",
      "---  ------  --------------  ----- \n",
      " 0   pid     3296 non-null   int64 \n",
      " 1   user    3296 non-null   object\n",
      " 2   date    3296 non-null   object\n",
      "dtypes: int64(1), object(2)\n",
      "memory usage: 77.4+ KB\n"
     ]
    },
    {
     "data": {
      "text/plain": [
       "None"
      ]
     },
     "metadata": {},
     "output_type": "display_data"
    },
    {
     "data": {
      "text/html": [
       "<div>\n",
       "<style scoped>\n",
       "    .dataframe tbody tr th:only-of-type {\n",
       "        vertical-align: middle;\n",
       "    }\n",
       "\n",
       "    .dataframe tbody tr th {\n",
       "        vertical-align: top;\n",
       "    }\n",
       "\n",
       "    .dataframe thead th {\n",
       "        text-align: right;\n",
       "    }\n",
       "</style>\n",
       "<table border=\"1\" class=\"dataframe\">\n",
       "  <thead>\n",
       "    <tr style=\"text-align: right;\">\n",
       "      <th></th>\n",
       "      <th>pid</th>\n",
       "      <th>user</th>\n",
       "      <th>date</th>\n",
       "    </tr>\n",
       "  </thead>\n",
       "  <tbody>\n",
       "    <tr>\n",
       "      <th>0</th>\n",
       "      <td>163314316</td>\n",
       "      <td>hrhino</td>\n",
       "      <td>2018-01-16T23:29:16Z</td>\n",
       "    </tr>\n",
       "    <tr>\n",
       "      <th>1</th>\n",
       "      <td>163061502</td>\n",
       "      <td>joroKr21</td>\n",
       "      <td>2018-01-15T23:44:52Z</td>\n",
       "    </tr>\n",
       "    <tr>\n",
       "      <th>2</th>\n",
       "      <td>163057333</td>\n",
       "      <td>mkeskells</td>\n",
       "      <td>2018-01-15T23:05:06Z</td>\n",
       "    </tr>\n",
       "    <tr>\n",
       "      <th>3</th>\n",
       "      <td>162985594</td>\n",
       "      <td>lrytz</td>\n",
       "      <td>2018-01-15T15:52:39Z</td>\n",
       "    </tr>\n",
       "    <tr>\n",
       "      <th>4</th>\n",
       "      <td>162838837</td>\n",
       "      <td>zuvizudar</td>\n",
       "      <td>2018-01-14T19:16:16Z</td>\n",
       "    </tr>\n",
       "  </tbody>\n",
       "</table>\n",
       "</div>"
      ],
      "text/plain": [
       "         pid       user                  date\n",
       "0  163314316     hrhino  2018-01-16T23:29:16Z\n",
       "1  163061502   joroKr21  2018-01-15T23:44:52Z\n",
       "2  163057333  mkeskells  2018-01-15T23:05:06Z\n",
       "3  162985594      lrytz  2018-01-15T15:52:39Z\n",
       "4  162838837  zuvizudar  2018-01-14T19:16:16Z"
      ]
     },
     "metadata": {},
     "output_type": "display_data"
    },
    {
     "name": "stdout",
     "output_type": "stream",
     "text": [
      "<class 'pandas.core.frame.DataFrame'>\n",
      "RangeIndex: 2904 entries, 0 to 2903\n",
      "Data columns (total 3 columns):\n",
      " #   Column  Non-Null Count  Dtype \n",
      "---  ------  --------------  ----- \n",
      " 0   pid     2904 non-null   int64 \n",
      " 1   user    2904 non-null   object\n",
      " 2   date    2904 non-null   object\n",
      "dtypes: int64(1), object(2)\n",
      "memory usage: 68.2+ KB\n"
     ]
    },
    {
     "data": {
      "text/plain": [
       "None"
      ]
     },
     "metadata": {},
     "output_type": "display_data"
    },
    {
     "data": {
      "text/html": [
       "<div>\n",
       "<style scoped>\n",
       "    .dataframe tbody tr th:only-of-type {\n",
       "        vertical-align: middle;\n",
       "    }\n",
       "\n",
       "    .dataframe tbody tr th {\n",
       "        vertical-align: top;\n",
       "    }\n",
       "\n",
       "    .dataframe thead th {\n",
       "        text-align: right;\n",
       "    }\n",
       "</style>\n",
       "<table border=\"1\" class=\"dataframe\">\n",
       "  <thead>\n",
       "    <tr style=\"text-align: right;\">\n",
       "      <th></th>\n",
       "      <th>pid</th>\n",
       "      <th>file</th>\n",
       "    </tr>\n",
       "  </thead>\n",
       "  <tbody>\n",
       "    <tr>\n",
       "      <th>0</th>\n",
       "      <td>163314316</td>\n",
       "      <td>test/files/pos/t5638/Among.java</td>\n",
       "    </tr>\n",
       "    <tr>\n",
       "      <th>1</th>\n",
       "      <td>163314316</td>\n",
       "      <td>test/files/pos/t5638/Usage.scala</td>\n",
       "    </tr>\n",
       "    <tr>\n",
       "      <th>2</th>\n",
       "      <td>163314316</td>\n",
       "      <td>test/files/pos/t9291.scala</td>\n",
       "    </tr>\n",
       "    <tr>\n",
       "      <th>3</th>\n",
       "      <td>163314316</td>\n",
       "      <td>test/files/run/t8348.check</td>\n",
       "    </tr>\n",
       "    <tr>\n",
       "      <th>4</th>\n",
       "      <td>163314316</td>\n",
       "      <td>test/files/run/t8348/TableColumn.java</td>\n",
       "    </tr>\n",
       "  </tbody>\n",
       "</table>\n",
       "</div>"
      ],
      "text/plain": [
       "         pid                                   file\n",
       "0  163314316        test/files/pos/t5638/Among.java\n",
       "1  163314316       test/files/pos/t5638/Usage.scala\n",
       "2  163314316             test/files/pos/t9291.scala\n",
       "3  163314316             test/files/run/t8348.check\n",
       "4  163314316  test/files/run/t8348/TableColumn.java"
      ]
     },
     "metadata": {},
     "output_type": "display_data"
    },
    {
     "name": "stdout",
     "output_type": "stream",
     "text": [
      "<class 'pandas.core.frame.DataFrame'>\n",
      "RangeIndex: 85588 entries, 0 to 85587\n",
      "Data columns (total 2 columns):\n",
      " #   Column  Non-Null Count  Dtype \n",
      "---  ------  --------------  ----- \n",
      " 0   pid     85588 non-null  int64 \n",
      " 1   file    85588 non-null  object\n",
      "dtypes: int64(1), object(1)\n",
      "memory usage: 1.3+ MB\n"
     ]
    },
    {
     "data": {
      "text/plain": [
       "None"
      ]
     },
     "metadata": {},
     "output_type": "display_data"
    }
   ],
   "source": [
    "# Importing pandas\n",
    "import pandas as pd\n",
    "\n",
    "# Loading in the data\n",
    "pulls_one = pd.read_csv('datasets/pulls_2011-2013.csv')\n",
    "pulls_two = pd.read_csv('datasets/pulls_2014-2018.csv')\n",
    "pull_files = pd.read_csv('datasets/pull_files.csv')\n",
    "\n",
    "display(pulls_one.head(5))\n",
    "display(pulls_one.info())\n",
    "display(pulls_two.head(5))\n",
    "display(pulls_two.info())\n",
    "display(pull_files.head(5))\n",
    "display(pull_files.info())"
   ]
  },
  {
   "cell_type": "markdown",
   "metadata": {},
   "source": [
    "# 2. Cleaning Data\n",
    "Pertama, kita perlu menggabungkan data dari dua DataFrames pulls_one dan pulls two.\n",
    "Selanjutnya, data mentah yang diekstrak dari GitHub berisi tanggal dalam format ISO8601. Namun, pandas mengimpornya sebagai string biasa. Untuk membuat analisis kita lebih mudah, kita perlu mengubah string menjadi objek DateTime Python. Objek DateTime memiliki properti penting sehingga dengan mudah dapat dibandingkan dan diurutkan.\n",
    "Waktu dalam melakukan pull request berada dalam zona waktu UTC (juga dikenal sebagai Coordinated Universal Time Untuk memudahkan perbandingan, kita harus mengonversi wkatu yang digunakan ke zona waktu UTC."
   ]
  },
  {
   "cell_type": "code",
   "execution_count": 2,
   "metadata": {},
   "outputs": [
    {
     "name": "stdout",
     "output_type": "stream",
     "text": [
      "<class 'pandas.core.frame.DataFrame'>\n",
      "Int64Index: 6200 entries, 0 to 2903\n",
      "Data columns (total 3 columns):\n",
      " #   Column  Non-Null Count  Dtype              \n",
      "---  ------  --------------  -----              \n",
      " 0   pid     6200 non-null   int64              \n",
      " 1   user    6200 non-null   object             \n",
      " 2   date    6200 non-null   datetime64[ns, UTC]\n",
      "dtypes: datetime64[ns, UTC](1), int64(1), object(1)\n",
      "memory usage: 193.8+ KB\n"
     ]
    }
   ],
   "source": [
    "# menggabungkan pulls_one dan pulls_two\n",
    "pulls = pulls_one.append(pulls_two)\n",
    "# merubah string pada kolom date menjadi datetime dengan zona waktu UTC\n",
    "pulls['date'] = pd.to_datetime(pulls['date'], utc=True)\n",
    "\n",
    "pulls.info()"
   ]
  },
  {
   "cell_type": "markdown",
   "metadata": {},
   "source": [
    "## 3. Penggabungan DataFrames\n",
    "<p>Mari kita gabungkan semua data yang telah kita ekstrak tersebut yaitu menggabungkan data pulls dengan pull_files</p>"
   ]
  },
  {
   "cell_type": "code",
   "execution_count": 3,
   "metadata": {},
   "outputs": [
    {
     "data": {
      "text/html": [
       "<div>\n",
       "<style scoped>\n",
       "    .dataframe tbody tr th:only-of-type {\n",
       "        vertical-align: middle;\n",
       "    }\n",
       "\n",
       "    .dataframe tbody tr th {\n",
       "        vertical-align: top;\n",
       "    }\n",
       "\n",
       "    .dataframe thead th {\n",
       "        text-align: right;\n",
       "    }\n",
       "</style>\n",
       "<table border=\"1\" class=\"dataframe\">\n",
       "  <thead>\n",
       "    <tr style=\"text-align: right;\">\n",
       "      <th></th>\n",
       "      <th>pid</th>\n",
       "      <th>user</th>\n",
       "      <th>date</th>\n",
       "      <th>file</th>\n",
       "    </tr>\n",
       "  </thead>\n",
       "  <tbody>\n",
       "    <tr>\n",
       "      <th>0</th>\n",
       "      <td>11166973</td>\n",
       "      <td>VladimirNik</td>\n",
       "      <td>2013-12-31 23:10:55+00:00</td>\n",
       "      <td>src/reflect/scala/reflect/api/Printers.scala</td>\n",
       "    </tr>\n",
       "    <tr>\n",
       "      <th>1</th>\n",
       "      <td>11166973</td>\n",
       "      <td>VladimirNik</td>\n",
       "      <td>2013-12-31 23:10:55+00:00</td>\n",
       "      <td>src/reflect/scala/reflect/internal/Printers.scala</td>\n",
       "    </tr>\n",
       "    <tr>\n",
       "      <th>2</th>\n",
       "      <td>11166973</td>\n",
       "      <td>VladimirNik</td>\n",
       "      <td>2013-12-31 23:10:55+00:00</td>\n",
       "      <td>test/files/run/reify_ann3.check</td>\n",
       "    </tr>\n",
       "    <tr>\n",
       "      <th>3</th>\n",
       "      <td>11166973</td>\n",
       "      <td>VladimirNik</td>\n",
       "      <td>2013-12-31 23:10:55+00:00</td>\n",
       "      <td>test/junit/scala/reflect/internal/PrintersTest...</td>\n",
       "    </tr>\n",
       "    <tr>\n",
       "      <th>4</th>\n",
       "      <td>11161892</td>\n",
       "      <td>Ichoran</td>\n",
       "      <td>2013-12-31 16:55:47+00:00</td>\n",
       "      <td>src/library/scala/collection/mutable/ArrayOps....</td>\n",
       "    </tr>\n",
       "    <tr>\n",
       "      <th>5</th>\n",
       "      <td>11153894</td>\n",
       "      <td>Ichoran</td>\n",
       "      <td>2013-12-31 02:41:13+00:00</td>\n",
       "      <td>src/library/scala/collection/immutable/Numeric...</td>\n",
       "    </tr>\n",
       "    <tr>\n",
       "      <th>6</th>\n",
       "      <td>11153894</td>\n",
       "      <td>Ichoran</td>\n",
       "      <td>2013-12-31 02:41:13+00:00</td>\n",
       "      <td>test/junit/scala/collection/NumericRangeTest.s...</td>\n",
       "    </tr>\n",
       "    <tr>\n",
       "      <th>7</th>\n",
       "      <td>11151917</td>\n",
       "      <td>rklaehn</td>\n",
       "      <td>2013-12-30 23:45:47+00:00</td>\n",
       "      <td>src/library/scala/collection/immutable/HashMap...</td>\n",
       "    </tr>\n",
       "    <tr>\n",
       "      <th>8</th>\n",
       "      <td>11151917</td>\n",
       "      <td>rklaehn</td>\n",
       "      <td>2013-12-30 23:45:47+00:00</td>\n",
       "      <td>src/library/scala/collection/immutable/HashSet...</td>\n",
       "    </tr>\n",
       "    <tr>\n",
       "      <th>9</th>\n",
       "      <td>11151917</td>\n",
       "      <td>rklaehn</td>\n",
       "      <td>2013-12-30 23:45:47+00:00</td>\n",
       "      <td>test/files/run/t6196.scala</td>\n",
       "    </tr>\n",
       "    <tr>\n",
       "      <th>10</th>\n",
       "      <td>11151917</td>\n",
       "      <td>rklaehn</td>\n",
       "      <td>2013-12-30 23:45:47+00:00</td>\n",
       "      <td>test/files/run/t6200.scala</td>\n",
       "    </tr>\n",
       "    <tr>\n",
       "      <th>11</th>\n",
       "      <td>11131244</td>\n",
       "      <td>qerub</td>\n",
       "      <td>2013-12-29 17:21:01+00:00</td>\n",
       "      <td>src/library/scala/Enumeration.scala</td>\n",
       "    </tr>\n",
       "    <tr>\n",
       "      <th>12</th>\n",
       "      <td>11131244</td>\n",
       "      <td>qerub</td>\n",
       "      <td>2013-12-29 17:21:01+00:00</td>\n",
       "      <td>src/library/scala/collection/immutable/StringL...</td>\n",
       "    </tr>\n",
       "    <tr>\n",
       "      <th>13</th>\n",
       "      <td>11131244</td>\n",
       "      <td>qerub</td>\n",
       "      <td>2013-12-29 17:21:01+00:00</td>\n",
       "      <td>src/library/scala/util/matching/Regex.scala</td>\n",
       "    </tr>\n",
       "    <tr>\n",
       "      <th>14</th>\n",
       "      <td>11131244</td>\n",
       "      <td>qerub</td>\n",
       "      <td>2013-12-29 17:21:01+00:00</td>\n",
       "      <td>src/repl/scala/tools/nsc/interpreter/JavapClas...</td>\n",
       "    </tr>\n",
       "    <tr>\n",
       "      <th>15</th>\n",
       "      <td>11131244</td>\n",
       "      <td>qerub</td>\n",
       "      <td>2013-12-29 17:21:01+00:00</td>\n",
       "      <td>src/repl/scala/tools/nsc/interpreter/Naming.scala</td>\n",
       "    </tr>\n",
       "    <tr>\n",
       "      <th>16</th>\n",
       "      <td>11130874</td>\n",
       "      <td>Ichoran</td>\n",
       "      <td>2013-12-29 16:03:55+00:00</td>\n",
       "      <td>src/library/scala/math/BigDecimal.scala</td>\n",
       "    </tr>\n",
       "    <tr>\n",
       "      <th>17</th>\n",
       "      <td>11130874</td>\n",
       "      <td>Ichoran</td>\n",
       "      <td>2013-12-29 16:03:55+00:00</td>\n",
       "      <td>src/library/scala/math/BigInt.scala</td>\n",
       "    </tr>\n",
       "    <tr>\n",
       "      <th>18</th>\n",
       "      <td>11130874</td>\n",
       "      <td>Ichoran</td>\n",
       "      <td>2013-12-29 16:03:55+00:00</td>\n",
       "      <td>test/files/jvm/bigints.scala</td>\n",
       "    </tr>\n",
       "    <tr>\n",
       "      <th>19</th>\n",
       "      <td>11130874</td>\n",
       "      <td>Ichoran</td>\n",
       "      <td>2013-12-29 16:03:55+00:00</td>\n",
       "      <td>test/files/run/bigDecimalTest.check</td>\n",
       "    </tr>\n",
       "  </tbody>\n",
       "</table>\n",
       "</div>"
      ],
      "text/plain": [
       "         pid         user                      date  \\\n",
       "0   11166973  VladimirNik 2013-12-31 23:10:55+00:00   \n",
       "1   11166973  VladimirNik 2013-12-31 23:10:55+00:00   \n",
       "2   11166973  VladimirNik 2013-12-31 23:10:55+00:00   \n",
       "3   11166973  VladimirNik 2013-12-31 23:10:55+00:00   \n",
       "4   11161892      Ichoran 2013-12-31 16:55:47+00:00   \n",
       "5   11153894      Ichoran 2013-12-31 02:41:13+00:00   \n",
       "6   11153894      Ichoran 2013-12-31 02:41:13+00:00   \n",
       "7   11151917      rklaehn 2013-12-30 23:45:47+00:00   \n",
       "8   11151917      rklaehn 2013-12-30 23:45:47+00:00   \n",
       "9   11151917      rklaehn 2013-12-30 23:45:47+00:00   \n",
       "10  11151917      rklaehn 2013-12-30 23:45:47+00:00   \n",
       "11  11131244        qerub 2013-12-29 17:21:01+00:00   \n",
       "12  11131244        qerub 2013-12-29 17:21:01+00:00   \n",
       "13  11131244        qerub 2013-12-29 17:21:01+00:00   \n",
       "14  11131244        qerub 2013-12-29 17:21:01+00:00   \n",
       "15  11131244        qerub 2013-12-29 17:21:01+00:00   \n",
       "16  11130874      Ichoran 2013-12-29 16:03:55+00:00   \n",
       "17  11130874      Ichoran 2013-12-29 16:03:55+00:00   \n",
       "18  11130874      Ichoran 2013-12-29 16:03:55+00:00   \n",
       "19  11130874      Ichoran 2013-12-29 16:03:55+00:00   \n",
       "\n",
       "                                                 file  \n",
       "0        src/reflect/scala/reflect/api/Printers.scala  \n",
       "1   src/reflect/scala/reflect/internal/Printers.scala  \n",
       "2                     test/files/run/reify_ann3.check  \n",
       "3   test/junit/scala/reflect/internal/PrintersTest...  \n",
       "4   src/library/scala/collection/mutable/ArrayOps....  \n",
       "5   src/library/scala/collection/immutable/Numeric...  \n",
       "6   test/junit/scala/collection/NumericRangeTest.s...  \n",
       "7   src/library/scala/collection/immutable/HashMap...  \n",
       "8   src/library/scala/collection/immutable/HashSet...  \n",
       "9                          test/files/run/t6196.scala  \n",
       "10                         test/files/run/t6200.scala  \n",
       "11                src/library/scala/Enumeration.scala  \n",
       "12  src/library/scala/collection/immutable/StringL...  \n",
       "13        src/library/scala/util/matching/Regex.scala  \n",
       "14  src/repl/scala/tools/nsc/interpreter/JavapClas...  \n",
       "15  src/repl/scala/tools/nsc/interpreter/Naming.scala  \n",
       "16            src/library/scala/math/BigDecimal.scala  \n",
       "17                src/library/scala/math/BigInt.scala  \n",
       "18                       test/files/jvm/bigints.scala  \n",
       "19                test/files/run/bigDecimalTest.check  "
      ]
     },
     "metadata": {},
     "output_type": "display_data"
    },
    {
     "name": "stdout",
     "output_type": "stream",
     "text": [
      "<class 'pandas.core.frame.DataFrame'>\n",
      "Int64Index: 85588 entries, 0 to 85587\n",
      "Data columns (total 4 columns):\n",
      " #   Column  Non-Null Count  Dtype              \n",
      "---  ------  --------------  -----              \n",
      " 0   pid     85588 non-null  int64              \n",
      " 1   user    85588 non-null  object             \n",
      " 2   date    85588 non-null  datetime64[ns, UTC]\n",
      " 3   file    85588 non-null  object             \n",
      "dtypes: datetime64[ns, UTC](1), int64(1), object(2)\n",
      "memory usage: 3.3+ MB\n"
     ]
    }
   ],
   "source": [
    "data = pd.merge(pulls, pull_files)\n",
    "display(data.head(5))\n",
    "data.info()"
   ]
  },
  {
   "cell_type": "markdown",
   "metadata": {},
   "source": [
    "# 4. Apakah project yang dilakukan masih aktif dilakukan pengecekan?\n",
    "Aktivitas dalam proyek open source tidak terlalu konsisten. Beberapa proyek mungkin aktif selama bertahun-tahun setelah rilis awal, setelah itu malah tidak melakukan rilis proyek lagi. Sebaiknya sebelum berkomitmen untuk berkontribusi pada suatu proyek, penting sekali untuk memahami keadaan proyek tersebut. Apakah pengembangan terus berjalan naik, atau ada penurunan? apakah proyek ini masih berjalan atau sudah ditinggalkan?\n",
    "Data yang digunakan dalam proyek ini dikumpulkan pada Januari 2018. Kami tertarik untuk melihat siapa yang melakukan pengembangan proyek dengan melihat jumlah kontribusi hingga tanggal itu.\n",
    "\n",
    "Kali ini kita akan melihat jumlah pull request pada github yang dilakukan setiap bulannya selama proyek tersebut berjalan. Setelah itu kita akan melihat tren berdasarkan kontribusi yang terjadi pada proyek tersebut."
   ]
  },
  {
   "cell_type": "code",
   "execution_count": 4,
   "metadata": {},
   "outputs": [
    {
     "data": {
      "text/plain": [
       "month  year\n",
       "1      2012     489\n",
       "       2013    3717\n",
       "       2014    1140\n",
       "       2015     732\n",
       "       2016     640\n",
       "Name: user, dtype: int64"
      ]
     },
     "metadata": {},
     "output_type": "display_data"
    },
    {
     "data": {
      "image/png": "[encoded data removed]",
      "text/plain": [
       "<Figure size 1080x720 with 1 Axes>"
      ]
     },
     "metadata": {
      "needs_background": "light"
     },
     "output_type": "display_data"
    }
   ],
   "source": [
    "%matplotlib inline\n",
    "import matplotlib.pyplot as plt\n",
    "\n",
    "# membuat sebuah column bulan dan tahun\n",
    "data['month'] = data.date.dt.month\n",
    "data['year'] = data.date.dt.year\n",
    "\n",
    "# melakukan grupby pada bulan dan tahun untuk melihat jumlah pull request yang terjadi\n",
    "counts = data.groupby(['month', 'year'])['user'].count()\n",
    "display(counts.head())\n",
    "# Plot hasilnya\n",
    "counts.plot(kind='bar', figsize = (15,10))\n",
    "plt.title('Jumlah user yang melakukan pull request tiap bulan')\n",
    "plt.ylabel('Total User')\n",
    "plt.show()"
   ]
  },
  {
   "cell_type": "markdown",
   "metadata": {},
   "source": [
    "# 5. Mencari jumlah kontribusi masing-masing user"
   ]
  },
  {
   "cell_type": "code",
   "execution_count": 5,
   "metadata": {},
   "outputs": [
    {
     "data": {
      "text/html": [
       "<div>\n",
       "<style scoped>\n",
       "    .dataframe tbody tr th:only-of-type {\n",
       "        vertical-align: middle;\n",
       "    }\n",
       "\n",
       "    .dataframe tbody tr th {\n",
       "        vertical-align: top;\n",
       "    }\n",
       "\n",
       "    .dataframe thead th {\n",
       "        text-align: right;\n",
       "    }\n",
       "</style>\n",
       "<table border=\"1\" class=\"dataframe\">\n",
       "  <thead>\n",
       "    <tr style=\"text-align: right;\">\n",
       "      <th></th>\n",
       "      <th>user</th>\n",
       "      <th>file</th>\n",
       "    </tr>\n",
       "  </thead>\n",
       "  <tbody>\n",
       "    <tr>\n",
       "      <th>0</th>\n",
       "      <td>xeno-by</td>\n",
       "      <td>12649</td>\n",
       "    </tr>\n",
       "    <tr>\n",
       "      <th>1</th>\n",
       "      <td>retronym</td>\n",
       "      <td>11430</td>\n",
       "    </tr>\n",
       "    <tr>\n",
       "      <th>2</th>\n",
       "      <td>paulp</td>\n",
       "      <td>11260</td>\n",
       "    </tr>\n",
       "    <tr>\n",
       "      <th>3</th>\n",
       "      <td>adriaanm</td>\n",
       "      <td>7722</td>\n",
       "    </tr>\n",
       "    <tr>\n",
       "      <th>4</th>\n",
       "      <td>lrytz</td>\n",
       "      <td>6988</td>\n",
       "    </tr>\n",
       "    <tr>\n",
       "      <th>...</th>\n",
       "      <td>...</td>\n",
       "      <td>...</td>\n",
       "    </tr>\n",
       "    <tr>\n",
       "      <th>459</th>\n",
       "      <td>iliffwes</td>\n",
       "      <td>1</td>\n",
       "    </tr>\n",
       "    <tr>\n",
       "      <th>460</th>\n",
       "      <td>jaceklaskowski</td>\n",
       "      <td>1</td>\n",
       "    </tr>\n",
       "    <tr>\n",
       "      <th>461</th>\n",
       "      <td>jacobsallan</td>\n",
       "      <td>1</td>\n",
       "    </tr>\n",
       "    <tr>\n",
       "      <th>462</th>\n",
       "      <td>jbdeboer</td>\n",
       "      <td>1</td>\n",
       "    </tr>\n",
       "    <tr>\n",
       "      <th>463</th>\n",
       "      <td>zuvizudar</td>\n",
       "      <td>1</td>\n",
       "    </tr>\n",
       "  </tbody>\n",
       "</table>\n",
       "<p>464 rows × 2 columns</p>\n",
       "</div>"
      ],
      "text/plain": [
       "               user   file\n",
       "0           xeno-by  12649\n",
       "1          retronym  11430\n",
       "2             paulp  11260\n",
       "3          adriaanm   7722\n",
       "4             lrytz   6988\n",
       "..              ...    ...\n",
       "459        iliffwes      1\n",
       "460  jaceklaskowski      1\n",
       "461     jacobsallan      1\n",
       "462        jbdeboer      1\n",
       "463       zuvizudar      1\n",
       "\n",
       "[464 rows x 2 columns]"
      ]
     },
     "metadata": {},
     "output_type": "display_data"
    }
   ],
   "source": [
    "# Group by the submitter\n",
    "by_user = data.groupby(['user'], as_index=False)['file'].count().sort_values(by=['file'],ascending=False, ignore_index=True)\n",
    "display(by_user)"
   ]
  },
  {
   "cell_type": "markdown",
   "metadata": {},
   "source": [
    "# 6. Siapakah 5 user yang sering pull request pada masing-masing tahun"
   ]
  },
  {
   "cell_type": "code",
   "execution_count": 6,
   "metadata": {},
   "outputs": [
    {
     "data": {
      "image/png": "[encoded data removed]",
      "text/plain": [
       "<Figure size 864x576 with 1 Axes>"
      ]
     },
     "metadata": {
      "needs_background": "light"
     },
     "output_type": "display_data"
    },
    {
     "data": {
      "image/png": "[encoded data removed]",
      "text/plain": [
       "<Figure size 864x576 with 1 Axes>"
      ]
     },
     "metadata": {
      "needs_background": "light"
     },
     "output_type": "display_data"
    },
    {
     "data": {
      "image/png": "[encoded data removed]",
      "text/plain": [
       "<Figure size 864x576 with 1 Axes>"
      ]
     },
     "metadata": {
      "needs_background": "light"
     },
     "output_type": "display_data"
    },
    {
     "data": {
      "image/png": "[encoded data removed]",
      "text/plain": [
       "<Figure size 864x576 with 1 Axes>"
      ]
     },
     "metadata": {
      "needs_background": "light"
     },
     "output_type": "display_data"
    },
    {
     "data": {
      "image/png": "[encoded data removed]",
      "text/plain": [
       "<Figure size 864x576 with 1 Axes>"
      ]
     },
     "metadata": {
      "needs_background": "light"
     },
     "output_type": "display_data"
    },
    {
     "data": {
      "image/png": "[encoded data removed]",
      "text/plain": [
       "<Figure size 864x576 with 1 Axes>"
      ]
     },
     "metadata": {
      "needs_background": "light"
     },
     "output_type": "display_data"
    },
    {
     "data": {
      "image/png": "[encoded data removed]",
      "text/plain": [
       "<Figure size 864x576 with 1 Axes>"
      ]
     },
     "metadata": {
      "needs_background": "light"
     },
     "output_type": "display_data"
    },
    {
     "data": {
      "image/png": "[encoded data removed]",
      "text/plain": [
       "<Figure size 864x576 with 1 Axes>"
      ]
     },
     "metadata": {
      "needs_background": "light"
     },
     "output_type": "display_data"
    }
   ],
   "source": [
    "nilai = data.groupby(['year', 'user'], as_index=False)['file'].count().sort_values('file', ascending=False,ignore_index=True)\n",
    "\n",
    "for i in range(2011,2019):\n",
    "    tahun = nilai[nilai.year == i]\n",
    "    tahun = tahun.nlargest(5, 'file')\n",
    "    tahun = tahun.pivot_table(index='year', columns='user', values='file')\n",
    "\n",
    "    tahun.plot.bar(rot=0, figsize=(12,8))\n",
    "    plt.show()"
   ]
  },
  {
   "cell_type": "markdown",
   "metadata": {},
   "source": [
    "# 7. File apa yang berubah dalam 10 pull request terakhir"
   ]
  },
  {
   "cell_type": "code",
   "execution_count": 7,
   "metadata": {},
   "outputs": [
    {
     "data": {
      "text/plain": [
       "{'LICENSE',\n",
       " 'doc/LICENSE.md',\n",
       " 'doc/License.rtf',\n",
       " 'project/VersionUtil.scala',\n",
       " 'src/compiler/scala/reflect/reify/phases/Calculate.scala',\n",
       " 'src/compiler/scala/tools/nsc/backend/jvm/BCodeHelpers.scala',\n",
       " 'src/compiler/scala/tools/nsc/backend/jvm/PostProcessor.scala',\n",
       " 'src/compiler/scala/tools/nsc/backend/jvm/analysis/BackendUtils.scala',\n",
       " 'src/compiler/scala/tools/nsc/profile/AsyncHelper.scala',\n",
       " 'src/compiler/scala/tools/nsc/profile/Profiler.scala',\n",
       " 'src/compiler/scala/tools/nsc/symtab/classfile/ClassfileParser.scala',\n",
       " 'src/compiler/scala/tools/nsc/typechecker/Contexts.scala',\n",
       " 'src/library/scala/Predef.scala',\n",
       " 'src/library/scala/concurrent/Lock.scala',\n",
       " 'src/library/scala/util/Properties.scala',\n",
       " 'src/reflect/scala/reflect/internal/pickling/ByteCodecs.scala',\n",
       " 'src/reflect/scala/reflect/internal/tpe/GlbLubs.scala',\n",
       " 'src/scaladoc/scala/tools/nsc/doc/html/page/Entity.scala',\n",
       " 'src/scalap/decoder.properties',\n",
       " 'test/files/neg/leibniz-liskov.check',\n",
       " 'test/files/neg/leibniz-liskov.scala',\n",
       " 'test/files/pos/leibniz-liskov.scala',\n",
       " 'test/files/pos/leibniz_liskov.scala',\n",
       " 'test/files/pos/parallel-classloader.scala',\n",
       " 'test/files/pos/t10568/Converter.java',\n",
       " 'test/files/pos/t10568/Impl.scala',\n",
       " 'test/files/pos/t10686.scala',\n",
       " 'test/files/pos/t5638/Among.java',\n",
       " 'test/files/pos/t5638/Usage.scala',\n",
       " 'test/files/pos/t9291.scala',\n",
       " 'test/files/run/t8348.check',\n",
       " 'test/files/run/t8348/TableColumn.java',\n",
       " 'test/files/run/t8348/TableColumnImpl.java',\n",
       " 'test/files/run/t8348/Test.scala'}"
      ]
     },
     "execution_count": 7,
     "metadata": {},
     "output_type": "execute_result"
    }
   ],
   "source": [
    "# Identifikasi 10 pull request terakhir berdasarkan tanggal pull nya\n",
    "last_10 = pulls.nlargest(10,'date')\n",
    "\n",
    "# menggabungkan 2 dataset\n",
    "joined_pr = last_10.merge(pull_files, on='pid')\n",
    "\n",
    "# mengidentifikasi file\n",
    "files = set(joined_pr.file.unique())\n",
    "\n",
    "# tampilkan hasilnya\n",
    "files"
   ]
  },
  {
   "cell_type": "markdown",
   "metadata": {},
   "source": [
    "# 8. Siapa user yang melakukan pull request dari project berikut\n",
    "project yang akan kita identifikasi adalah 'src/compiler/scala/reflect/reify/phases/Calculate.scala'"
   ]
  },
  {
   "cell_type": "code",
   "execution_count": 8,
   "metadata": {},
   "outputs": [
    {
     "data": {
      "text/html": [
       "<div>\n",
       "<style scoped>\n",
       "    .dataframe tbody tr th:only-of-type {\n",
       "        vertical-align: middle;\n",
       "    }\n",
       "\n",
       "    .dataframe tbody tr th {\n",
       "        vertical-align: top;\n",
       "    }\n",
       "\n",
       "    .dataframe thead th {\n",
       "        text-align: right;\n",
       "    }\n",
       "</style>\n",
       "<table border=\"1\" class=\"dataframe\">\n",
       "  <thead>\n",
       "    <tr style=\"text-align: right;\">\n",
       "      <th></th>\n",
       "      <th>user</th>\n",
       "      <th>file</th>\n",
       "    </tr>\n",
       "  </thead>\n",
       "  <tbody>\n",
       "    <tr>\n",
       "      <th>0</th>\n",
       "      <td>bjornregnell</td>\n",
       "      <td>1</td>\n",
       "    </tr>\n",
       "    <tr>\n",
       "      <th>1</th>\n",
       "      <td>densh</td>\n",
       "      <td>1</td>\n",
       "    </tr>\n",
       "    <tr>\n",
       "      <th>2</th>\n",
       "      <td>gkossakowski</td>\n",
       "      <td>1</td>\n",
       "    </tr>\n",
       "    <tr>\n",
       "      <th>3</th>\n",
       "      <td>melloc</td>\n",
       "      <td>1</td>\n",
       "    </tr>\n",
       "    <tr>\n",
       "      <th>4</th>\n",
       "      <td>odersky</td>\n",
       "      <td>2</td>\n",
       "    </tr>\n",
       "    <tr>\n",
       "      <th>5</th>\n",
       "      <td>paulp</td>\n",
       "      <td>2</td>\n",
       "    </tr>\n",
       "    <tr>\n",
       "      <th>6</th>\n",
       "      <td>retronym</td>\n",
       "      <td>5</td>\n",
       "    </tr>\n",
       "    <tr>\n",
       "      <th>7</th>\n",
       "      <td>soc</td>\n",
       "      <td>4</td>\n",
       "    </tr>\n",
       "    <tr>\n",
       "      <th>8</th>\n",
       "      <td>starblood</td>\n",
       "      <td>1</td>\n",
       "    </tr>\n",
       "    <tr>\n",
       "      <th>9</th>\n",
       "      <td>xeno-by</td>\n",
       "      <td>11</td>\n",
       "    </tr>\n",
       "    <tr>\n",
       "      <th>10</th>\n",
       "      <td>zuvizudar</td>\n",
       "      <td>1</td>\n",
       "    </tr>\n",
       "  </tbody>\n",
       "</table>\n",
       "</div>"
      ],
      "text/plain": [
       "            user  file\n",
       "0   bjornregnell     1\n",
       "1          densh     1\n",
       "2   gkossakowski     1\n",
       "3         melloc     1\n",
       "4        odersky     2\n",
       "5          paulp     2\n",
       "6       retronym     5\n",
       "7            soc     4\n",
       "8      starblood     1\n",
       "9        xeno-by    11\n",
       "10     zuvizudar     1"
      ]
     },
     "execution_count": 8,
     "metadata": {},
     "output_type": "execute_result"
    }
   ],
   "source": [
    "# Nama file yang akan di identifikasi\n",
    "file = 'src/compiler/scala/reflect/reify/phases/Calculate.scala'\n",
    "\n",
    "# mencari file yang sesuai dengan yang di identifikasi\n",
    "file_pr = data[data.file == file]\n",
    "\n",
    "# menghitung banyaknya user yang telah melakukan pull request pada file yang telah ditentukan\n",
    "author_counts = file_pr.groupby('user', as_index=False)['file'].count()\n",
    "\n",
    "author_counts.head(11)"
   ]
  },
  {
   "cell_type": "markdown",
   "metadata": {},
   "source": [
    "# 9. Siapa user yang melakukan 10 pull request terakhir pada project diatas "
   ]
  },
  {
   "cell_type": "code",
   "execution_count": 9,
   "metadata": {},
   "outputs": [
    {
     "data": {
      "text/plain": [
       "{'bjornregnell', 'retronym', 'soc', 'starblood', 'xeno-by', 'zuvizudar'}"
      ]
     },
     "execution_count": 9,
     "metadata": {},
     "output_type": "execute_result"
    }
   ],
   "source": [
    "# menggabungkan dataframe antara file yang sesuai dengan pull request berdasarkan pid dan usernya\n",
    "joined_pr = file_pr.merge(pulls, on=['pid', 'user'])\n",
    "\n",
    "# menemukan 10 pull request terakhir\n",
    "users_last_10 = set(joined_pr.nlargest(10, 'date_x')['user'])\n",
    "\n",
    "# Tampilkan hasilnya\n",
    "users_last_10"
   ]
  },
  {
   "cell_type": "code",
   "execution_count": null,
   "metadata": {},
   "outputs": [],
   "source": []
  }
 ],
 "metadata": {
  "kernelspec": {
   "display_name": "Python 3",
   "language": "python",
   "name": "python3"
  },
  "language_info": {
   "codemirror_mode": {
    "name": "ipython",
    "version": 3
   },
   "file_extension": ".py",
   "mimetype": "text/x-python",
   "name": "python",
   "nbconvert_exporter": "python",
   "pygments_lexer": "ipython3",
   "version": "3.7.6"
  }
 },
 "nbformat": 4,
 "nbformat_minor": 4
}
